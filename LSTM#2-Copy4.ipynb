{
 "cells": [
  {
   "cell_type": "code",
   "execution_count": 1,
   "id": "2568e91b",
   "metadata": {},
   "outputs": [],
   "source": [
    "import numpy as np\n",
    "import matplotlib.pyplot as plt\n",
    "import pandas as pd"
   ]
  },
  {
   "cell_type": "code",
   "execution_count": 2,
   "id": "ba721100",
   "metadata": {},
   "outputs": [],
   "source": [
    "dataset_train = pd.read_csv('DOP/5a_40A.csv')\n",
    "training_set = dataset_train.iloc[2:1271,0:1].values"
   ]
  },
  {
   "cell_type": "code",
   "execution_count": 3,
   "id": "347ff018",
   "metadata": {},
   "outputs": [
    {
     "data": {
      "text/plain": [
       "(1269, 1)"
      ]
     },
     "execution_count": 3,
     "metadata": {},
     "output_type": "execute_result"
    }
   ],
   "source": [
    "training_set = training_set.reshape(-1,1)\n",
    "training_set.shape"
   ]
  },
  {
   "cell_type": "code",
   "execution_count": 4,
   "id": "2a64ebc5",
   "metadata": {},
   "outputs": [],
   "source": [
    "from sklearn.preprocessing import MinMaxScaler\n",
    "sc = MinMaxScaler(feature_range=(0,1))\n",
    "training_set_scaled = sc.fit_transform(training_set)"
   ]
  },
  {
   "cell_type": "code",
   "execution_count": 5,
   "id": "d7d60d57",
   "metadata": {},
   "outputs": [],
   "source": [
    "X_train = []\n",
    "y_train = []\n",
    "for i in range (60, 1269):\n",
    "    X_train.append(training_set_scaled[i-60:i, 0])\n",
    "    y_train.append(training_set_scaled[i, 0])\n",
    "X_train, y_train = np.array(X_train), np.array(y_train)\n",
    "X_train = np.reshape(X_train, (X_train.shape[0], X_train.shape[1],1))"
   ]
  },
  {
   "cell_type": "code",
   "execution_count": 6,
   "id": "6b9f2a2f",
   "metadata": {},
   "outputs": [
    {
     "data": {
      "text/plain": [
       "(1209, 60, 1)"
      ]
     },
     "execution_count": 6,
     "metadata": {},
     "output_type": "execute_result"
    }
   ],
   "source": [
    "X_train.shape"
   ]
  },
  {
   "cell_type": "code",
   "execution_count": 7,
   "id": "0c8fba01",
   "metadata": {},
   "outputs": [],
   "source": [
    "from keras.models import Sequential\n",
    "from keras.layers import Dense\n",
    "from keras.layers import LSTM\n",
    "from keras.layers import Dropout"
   ]
  },
  {
   "cell_type": "code",
   "execution_count": 8,
   "id": "54edc88e",
   "metadata": {},
   "outputs": [],
   "source": [
    "regressor = Sequential()"
   ]
  },
  {
   "cell_type": "code",
   "execution_count": 9,
   "id": "597804b0",
   "metadata": {},
   "outputs": [],
   "source": [
    "regressor.add(LSTM(units = 50, return_sequences = True, input_shape = (X_train.shape[1],1)))\n",
    "regressor.add(Dropout(0.2))"
   ]
  },
  {
   "cell_type": "code",
   "execution_count": 10,
   "id": "eb2b7e39",
   "metadata": {},
   "outputs": [],
   "source": [
    "regressor.add(LSTM(units = 50, return_sequences = True))\n",
    "regressor.add(Dropout(0.2))"
   ]
  },
  {
   "cell_type": "code",
   "execution_count": 11,
   "id": "64bd5283",
   "metadata": {},
   "outputs": [],
   "source": [
    "regressor.add(LSTM(units = 50, return_sequences = True))\n",
    "regressor.add(Dropout(0.2))"
   ]
  },
  {
   "cell_type": "code",
   "execution_count": 12,
   "id": "070f897e",
   "metadata": {},
   "outputs": [],
   "source": [
    "regressor.add(LSTM(units = 50, return_sequences = True))\n",
    "regressor.add(Dropout(0.2))"
   ]
  },
  {
   "cell_type": "code",
   "execution_count": 13,
   "id": "04447e36",
   "metadata": {},
   "outputs": [],
   "source": [
    "regressor.add(Dense(units = 1))"
   ]
  },
  {
   "cell_type": "code",
   "execution_count": 14,
   "id": "edbcaf29",
   "metadata": {},
   "outputs": [],
   "source": [
    "regressor.compile(optimizer = 'adam', loss = 'mean_squared_error')"
   ]
  },
  {
   "cell_type": "code",
   "execution_count": 15,
   "id": "f7990b9b",
   "metadata": {},
   "outputs": [
    {
     "data": {
      "text/plain": [
       "(1209,)"
      ]
     },
     "execution_count": 15,
     "metadata": {},
     "output_type": "execute_result"
    }
   ],
   "source": [
    "y_train.shape"
   ]
  },
  {
   "cell_type": "code",
   "execution_count": 32,
   "id": "f3abe9a9",
   "metadata": {},
   "outputs": [
    {
     "name": "stdout",
     "output_type": "stream",
     "text": [
      "38/38 [==============================] - 2s 41ms/step - loss: 0.0807\n"
     ]
    },
    {
     "data": {
      "text/plain": [
       "<keras.callbacks.History at 0x1b963b4ce50>"
      ]
     },
     "execution_count": 32,
     "metadata": {},
     "output_type": "execute_result"
    }
   ],
   "source": [
    "regressor.fit(X_train, y_train, epochs = 1, batch_size = 32)"
   ]
  },
  {
   "cell_type": "code",
   "execution_count": 33,
   "id": "7806650a",
   "metadata": {},
   "outputs": [],
   "source": [
    "dataset_test = pd.read_csv('DOP/5a_40A.csv')\n",
    "testing_set = dataset_test.iloc[1272:1587,0:1].values"
   ]
  },
  {
   "cell_type": "code",
   "execution_count": 34,
   "id": "ee7bc662",
   "metadata": {},
   "outputs": [],
   "source": [
    "dataset_total = pd.concat((dataset_train['Hours'],dataset_test['Hours']), axis = 0)"
   ]
  },
  {
   "cell_type": "code",
   "execution_count": 35,
   "id": "6297b936",
   "metadata": {},
   "outputs": [],
   "source": [
    "inputs = dataset_total[len(dataset_total)-len(dataset_test)- 60: ].values\n"
   ]
  },
  {
   "cell_type": "code",
   "execution_count": 36,
   "id": "8e80b15e",
   "metadata": {},
   "outputs": [],
   "source": [
    "inputs = inputs.reshape(-1, 1)"
   ]
  },
  {
   "cell_type": "code",
   "execution_count": 37,
   "id": "deb032b3",
   "metadata": {},
   "outputs": [],
   "source": [
    "inputs = sc.transform(inputs)"
   ]
  },
  {
   "cell_type": "code",
   "execution_count": 38,
   "id": "4933112c",
   "metadata": {},
   "outputs": [],
   "source": [
    "X_test = []\n",
    "for i in range(60, len(inputs)): \n",
    "    X_test.append(inputs[i-60: i, 0])\n",
    "X_test = np.array(X_test)\n",
    "    #make numpy array as 3D , adding num of indicator\n",
    "X_test = np.reshape(X_test, newshape = (X_test.shape[0], X_test.shape[1], 1))"
   ]
  },
  {
   "cell_type": "code",
   "execution_count": 39,
   "id": "0003af03",
   "metadata": {},
   "outputs": [
    {
     "name": "stdout",
     "output_type": "stream",
     "text": [
      "50/50 [==============================] - 1s 14ms/step\n"
     ]
    }
   ],
   "source": [
    "predicktion = regressor.predict(X_test)"
   ]
  },
  {
   "cell_type": "code",
   "execution_count": 40,
   "id": "2265555e",
   "metadata": {},
   "outputs": [
    {
     "name": "stdout",
     "output_type": "stream",
     "text": [
      "Original array:\n",
      " [[[0.11262135]\n",
      "  [0.19220822]\n",
      "  [0.2698117 ]\n",
      "  ...\n",
      "  [0.5193099 ]\n",
      "  [0.5193121 ]\n",
      "  [0.51931435]]\n",
      "\n",
      " [[0.11262786]\n",
      "  [0.19222713]\n",
      "  [0.26984483]\n",
      "  ...\n",
      "  [0.51930606]\n",
      "  [0.51930976]\n",
      "  [0.5184112 ]]\n",
      "\n",
      " [[0.11262786]\n",
      "  [0.19222713]\n",
      "  [0.26984483]\n",
      "  ...\n",
      "  [0.51930374]\n",
      "  [0.51840657]\n",
      "  [0.5156615 ]]\n",
      "\n",
      " ...\n",
      "\n",
      " [[0.11262135]\n",
      "  [0.1922022 ]\n",
      "  [0.26978895]\n",
      "  ...\n",
      "  [0.5193297 ]\n",
      "  [0.51932895]\n",
      "  [0.5193263 ]]\n",
      "\n",
      " [[0.11262135]\n",
      "  [0.1922022 ]\n",
      "  [0.26978895]\n",
      "  ...\n",
      "  [0.51932293]\n",
      "  [0.51932174]\n",
      "  [0.5193205 ]]\n",
      "\n",
      " [[0.11262135]\n",
      "  [0.19220218]\n",
      "  [0.26979446]\n",
      "  ...\n",
      "  [0.51931566]\n",
      "  [0.51931584]\n",
      "  [0.5193167 ]]]\n",
      "Reshaped array:\n",
      " [[0.11262135 0.19220822 0.2698117  ... 0.5193099  0.5193121  0.51931435]\n",
      " [0.11262786 0.19222713 0.26984483 ... 0.51930606 0.51930976 0.5184112 ]\n",
      " [0.11262786 0.19222713 0.26984483 ... 0.51930374 0.51840657 0.5156615 ]\n",
      " ...\n",
      " [0.11262135 0.1922022  0.26978895 ... 0.5193297  0.51932895 0.5193263 ]\n",
      " [0.11262135 0.1922022  0.26978895 ... 0.51932293 0.51932174 0.5193205 ]\n",
      " [0.11262135 0.19220218 0.26979446 ... 0.51931566 0.51931584 0.5193167 ]]\n"
     ]
    }
   ],
   "source": [
    "array=np.array(predicktion)\n",
    "reshaped_array=np.reshape(predicktion,(1587,60))\n",
    "print(\"Original array:\\n\", predicktion)\n",
    "print(\"Reshaped array:\\n\", reshaped_array)"
   ]
  },
  {
   "cell_type": "code",
   "execution_count": 41,
   "id": "8b7a43af",
   "metadata": {},
   "outputs": [],
   "source": [
    "preeeeeedicktion = sc.inverse_transform(reshaped_array)\n"
   ]
  },
  {
   "cell_type": "code",
   "execution_count": 42,
   "id": "55506d30",
   "metadata": {},
   "outputs": [
    {
     "data": {
      "image/png": "[encoded data removed]",
      "text/plain": [
       "<Figure size 432x288 with 1 Axes>"
      ]
     },
     "metadata": {
      "needs_background": "light"
     },
     "output_type": "display_data"
    }
   ],
   "source": [
    "plt.plot(testing_set, color = 'red', label = 'real values')\n",
    "plt.plot(preeeeeedicktion, color = 'blue', label = 'Our prediction')\n",
    "plt.title('Google price prediction')\n",
    "plt.xlabel('Hours')\n",
    "plt.ylabel('Extra')\n",
    "plt.legend()\n",
    "plt.show()"
   ]
  },
  {
   "cell_type": "code",
   "execution_count": null,
   "id": "777613d9",
   "metadata": {},
   "outputs": [],
   "source": []
  }
 ],
 "metadata": {
  "kernelspec": {
   "display_name": "Python 3 (ipykernel)",
   "language": "python",
   "name": "python3"
  },
  "language_info": {
   "codemirror_mode": {
    "name": "ipython",
    "version": 3
   },
   "file_extension": ".py",
   "mimetype": "text/x-python",
   "name": "python",
   "nbconvert_exporter": "python",
   "pygments_lexer": "ipython3",
   "version": "3.9.12"
  }
 },
 "nbformat": 4,
 "nbformat_minor": 5
}
