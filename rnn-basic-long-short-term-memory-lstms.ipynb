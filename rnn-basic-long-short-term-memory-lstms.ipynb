{
 "cells": [
  {
   "cell_type": "markdown",
   "metadata": {
    "_uuid": "deb402ecd8ee331e196057cde31a28a7ab53e0e0"
   },
   "source": [
    "[Kaan Can Yılmaz'ın](https://www.udemy.com/user/kaan-can-yilmaz/)\n",
    "\n",
    "* [Machine Learning ve Python: A'dan Z'ye Makine Öğrenmesi](https://www.udemy.com/machine-learning-ve-python-adan-zye-makine-ogrenmesi-4)\n",
    "\n",
    "kursundan öğrendiklerimi denediğim ve derlediğim kernelimdir."
   ]
  },
  {
   "cell_type": "code",
   "execution_count": 3,
   "metadata": {
    "_cell_guid": "b1076dfc-b9ad-4769-8c92-a6c4dae69d19",
    "_uuid": "8f2839f25d086af736a60e9eeb907d3b93b6e0e5"
   },
   "outputs": [],
   "source": [
    "# Importing the libraries\n",
    "import numpy as np\n",
    "import matplotlib.pyplot as plt\n",
    "import pandas as pd\n",
    "import warnings\n",
    "warnings.filterwarnings('ignore')"
   ]
  },
  {
   "cell_type": "code",
   "execution_count": 4,
   "metadata": {
    "_cell_guid": "79c7e3d0-c299-4dcb-8224-4455121ee9b0",
    "_uuid": "d629ff2d2480ee46fbb7e2d37f6b5fab8052498a",
    "scrolled": true
   },
   "outputs": [
    {
     "data": {
      "text/html": [
       "<div>\n",
       "<style scoped>\n",
       "    .dataframe tbody tr th:only-of-type {\n",
       "        vertical-align: middle;\n",
       "    }\n",
       "\n",
       "    .dataframe tbody tr th {\n",
       "        vertical-align: top;\n",
       "    }\n",
       "\n",
       "    .dataframe thead th {\n",
       "        text-align: right;\n",
       "    }\n",
       "</style>\n",
       "<table border=\"1\" class=\"dataframe\">\n",
       "  <thead>\n",
       "    <tr style=\"text-align: right;\">\n",
       "      <th></th>\n",
       "      <th>Hours</th>\n",
       "      <th>Temperature</th>\n",
       "    </tr>\n",
       "  </thead>\n",
       "  <tbody>\n",
       "    <tr>\n",
       "      <th>0</th>\n",
       "      <td>0.0068</td>\n",
       "      <td>15.5483</td>\n",
       "    </tr>\n",
       "    <tr>\n",
       "      <th>1</th>\n",
       "      <td>0.0068</td>\n",
       "      <td>15.1557</td>\n",
       "    </tr>\n",
       "    <tr>\n",
       "      <th>2</th>\n",
       "      <td>0.0229</td>\n",
       "      <td>15.2865</td>\n",
       "    </tr>\n",
       "    <tr>\n",
       "      <th>3</th>\n",
       "      <td>0.0229</td>\n",
       "      <td>15.1557</td>\n",
       "    </tr>\n",
       "    <tr>\n",
       "      <th>4</th>\n",
       "      <td>0.0389</td>\n",
       "      <td>15.1557</td>\n",
       "    </tr>\n",
       "  </tbody>\n",
       "</table>\n",
       "</div>"
      ],
      "text/plain": [
       "    Hours  Temperature\n",
       "0  0.0068      15.5483\n",
       "1  0.0068      15.1557\n",
       "2  0.0229      15.2865\n",
       "3  0.0229      15.1557\n",
       "4  0.0389      15.1557"
      ]
     },
     "execution_count": 4,
     "metadata": {},
     "output_type": "execute_result"
    }
   ],
   "source": [
    "#Loading and Preprocessing Data\n",
    "\n",
    "# Importing the training set\n",
    "dataset_train = pd.read_csv('DOP/5a_40A.csv')\n",
    "dataset_train.head()"
   ]
  },
  {
   "cell_type": "code",
   "execution_count": 7,
   "metadata": {
    "_uuid": "11059370b6b75724517fc18fb1929b4f1ccfbfac"
   },
   "outputs": [
    {
     "data": {
      "text/plain": [
       "array([[0.0068],\n",
       "       [0.0068],\n",
       "       [0.0229],\n",
       "       ...,\n",
       "       [5.2268],\n",
       "       [5.2268],\n",
       "       [5.2268]])"
      ]
     },
     "execution_count": 7,
     "metadata": {},
     "output_type": "execute_result"
    }
   ],
   "source": [
    "train = dataset_train.loc[:, [\"Hours\"]].values\n",
    "train"
   ]
  },
  {
   "cell_type": "code",
   "execution_count": 6,
   "metadata": {
    "_uuid": "8d2211e41dd2e79012a685e83714d6426ad98007"
   },
   "outputs": [
    {
     "data": {
      "text/plain": [
       "array([[0.        ],\n",
       "       [0.        ],\n",
       "       [0.00308429],\n",
       "       ...,\n",
       "       [1.        ],\n",
       "       [1.        ],\n",
       "       [1.        ]])"
      ]
     },
     "execution_count": 6,
     "metadata": {},
     "output_type": "execute_result"
    }
   ],
   "source": [
    "# Feature Scaling\n",
    "from sklearn.preprocessing import MinMaxScaler\n",
    "scaler = MinMaxScaler(feature_range = (0, 1))\n",
    "train_scaled = scaler.fit_transform(train)\n",
    "train_scaled"
   ]
  },
  {
   "cell_type": "code",
   "execution_count": 15,
   "metadata": {},
   "outputs": [
    {
     "data": {
      "text/plain": [
       "array([[0.        ],\n",
       "       [0.        ],\n",
       "       [0.00308429],\n",
       "       [0.00308429],\n",
       "       [0.00614943],\n",
       "       [0.03691571],\n",
       "       [0.04614943],\n",
       "       [0.04923372],\n",
       "       [0.06461686],\n",
       "       [0.06770115],\n",
       "       [0.08      ],\n",
       "       [0.08308429],\n",
       "       [0.08308429],\n",
       "       [0.08308429],\n",
       "       [0.08308429],\n",
       "       [0.08308429],\n",
       "       [0.08614943],\n",
       "       [0.08614943],\n",
       "       [0.08614943],\n",
       "       [0.08614943],\n",
       "       [0.08614943],\n",
       "       [0.08614943],\n",
       "       [0.08614943],\n",
       "       [0.08614943],\n",
       "       [0.08614943],\n",
       "       [0.08614943],\n",
       "       [0.08923372],\n",
       "       [0.08923372],\n",
       "       [0.08923372],\n",
       "       [0.08923372],\n",
       "       [0.08923372],\n",
       "       [0.08923372],\n",
       "       [0.08923372],\n",
       "       [0.08923372],\n",
       "       [0.09231801],\n",
       "       [0.09231801],\n",
       "       [0.09231801],\n",
       "       [0.09231801],\n",
       "       [0.09231801],\n",
       "       [0.09231801],\n",
       "       [0.09231801],\n",
       "       [0.09231801],\n",
       "       [0.09231801],\n",
       "       [0.09231801],\n",
       "       [0.09231801],\n",
       "       [0.09231801],\n",
       "       [0.09231801],\n",
       "       [0.09231801],\n",
       "       [0.09231801],\n",
       "       [0.09538314],\n",
       "       [0.09538314],\n",
       "       [0.09538314],\n",
       "       [0.09538314],\n",
       "       [0.09538314],\n",
       "       [0.09846743],\n",
       "       [0.09846743],\n",
       "       [0.09846743],\n",
       "       [0.09846743],\n",
       "       [0.09846743],\n",
       "       [0.09846743],\n",
       "       [0.09846743],\n",
       "       [0.09846743],\n",
       "       [0.09846743],\n",
       "       [0.09846743],\n",
       "       [0.09846743],\n",
       "       [0.09846743],\n",
       "       [0.09846743],\n",
       "       [0.10153257],\n",
       "       [0.10153257],\n",
       "       [0.10153257],\n",
       "       [0.10153257],\n",
       "       [0.10153257],\n",
       "       [0.10153257],\n",
       "       [0.10153257],\n",
       "       [0.10153257],\n",
       "       [0.10461686],\n",
       "       [0.10461686],\n",
       "       [0.10461686],\n",
       "       [0.10461686],\n",
       "       [0.10461686],\n",
       "       [0.10770115],\n",
       "       [0.10770115],\n",
       "       [0.10770115],\n",
       "       [0.10770115],\n",
       "       [0.10770115],\n",
       "       [0.11076628],\n",
       "       [0.11076628],\n",
       "       [0.11076628],\n",
       "       [0.11076628],\n",
       "       [0.11076628],\n",
       "       [0.11385057],\n",
       "       [0.11385057],\n",
       "       [0.11385057],\n",
       "       [0.11385057],\n",
       "       [0.11385057],\n",
       "       [0.11691571],\n",
       "       [0.11691571],\n",
       "       [0.11691571],\n",
       "       [0.11691571],\n",
       "       [0.11691571]])"
      ]
     },
     "execution_count": 15,
     "metadata": {},
     "output_type": "execute_result"
    }
   ],
   "source": [
    "train_scaled[0:100]"
   ]
  },
  {
   "cell_type": "code",
   "execution_count": 13,
   "metadata": {},
   "outputs": [
    {
     "data": {
      "text/plain": [
       "array([[0.0068],\n",
       "       [0.0068],\n",
       "       [0.0229],\n",
       "       [0.0229],\n",
       "       [0.0389],\n",
       "       [0.1995],\n",
       "       [0.2477],\n",
       "       [0.2638],\n",
       "       [0.3441],\n",
       "       [0.3602],\n",
       "       [0.4244],\n",
       "       [0.4405],\n",
       "       [0.4405],\n",
       "       [0.4405],\n",
       "       [0.4405],\n",
       "       [0.4405],\n",
       "       [0.4565],\n",
       "       [0.4565],\n",
       "       [0.4565],\n",
       "       [0.4565],\n",
       "       [0.4565],\n",
       "       [0.4565],\n",
       "       [0.4565],\n",
       "       [0.4565],\n",
       "       [0.4565],\n",
       "       [0.4565],\n",
       "       [0.4726],\n",
       "       [0.4726],\n",
       "       [0.4726],\n",
       "       [0.4726],\n",
       "       [0.4726],\n",
       "       [0.4726],\n",
       "       [0.4726],\n",
       "       [0.4726],\n",
       "       [0.4887],\n",
       "       [0.4887],\n",
       "       [0.4887],\n",
       "       [0.4887],\n",
       "       [0.4887],\n",
       "       [0.4887],\n",
       "       [0.4887],\n",
       "       [0.4887],\n",
       "       [0.4887],\n",
       "       [0.4887],\n",
       "       [0.4887],\n",
       "       [0.4887],\n",
       "       [0.4887],\n",
       "       [0.4887],\n",
       "       [0.4887],\n",
       "       [0.5047],\n",
       "       [0.5047],\n",
       "       [0.5047],\n",
       "       [0.5047],\n",
       "       [0.5047],\n",
       "       [0.5208],\n",
       "       [0.5208],\n",
       "       [0.5208],\n",
       "       [0.5208],\n",
       "       [0.5208],\n",
       "       [0.5208],\n",
       "       [0.5208],\n",
       "       [0.5208],\n",
       "       [0.5208],\n",
       "       [0.5208],\n",
       "       [0.5208],\n",
       "       [0.5208],\n",
       "       [0.5208],\n",
       "       [0.5368],\n",
       "       [0.5368],\n",
       "       [0.5368],\n",
       "       [0.5368],\n",
       "       [0.5368],\n",
       "       [0.5368],\n",
       "       [0.5368],\n",
       "       [0.5368],\n",
       "       [0.5529],\n",
       "       [0.5529],\n",
       "       [0.5529],\n",
       "       [0.5529],\n",
       "       [0.5529],\n",
       "       [0.569 ],\n",
       "       [0.569 ],\n",
       "       [0.569 ],\n",
       "       [0.569 ],\n",
       "       [0.569 ],\n",
       "       [0.585 ],\n",
       "       [0.585 ],\n",
       "       [0.585 ],\n",
       "       [0.585 ],\n",
       "       [0.585 ],\n",
       "       [0.6011],\n",
       "       [0.6011],\n",
       "       [0.6011],\n",
       "       [0.6011],\n",
       "       [0.6011],\n",
       "       [0.6171],\n",
       "       [0.6171],\n",
       "       [0.6171],\n",
       "       [0.6171],\n",
       "       [0.6171]])"
      ]
     },
     "execution_count": 13,
     "metadata": {},
     "output_type": "execute_result"
    }
   ],
   "source": [
    "train[0:100]"
   ]
  },
  {
   "cell_type": "code",
   "execution_count": 20,
   "metadata": {
    "_uuid": "0f09093c184350e568620083c46117a6d4452b0f"
   },
   "outputs": [
    {
     "data": {
      "image/png": "[encoded data removed]",
      "text/plain": [
       "<Figure size 432x288 with 1 Axes>"
      ]
     },
     "metadata": {
      "needs_background": "light"
     },
     "output_type": "display_data"
    }
   ],
   "source": [
    "plt.plot(train_scaled)\n",
    "plt.show()"
   ]
  },
  {
   "cell_type": "code",
   "execution_count": 21,
   "metadata": {
    "_uuid": "80fa3372e2259c2acf8b0ec36bb968211b356061"
   },
   "outputs": [],
   "source": [
    "# Creating a data structure with 50 timesteps and 1 output\n",
    "X_train = []\n",
    "y_train = []\n",
    "timesteps = 50\n",
    "for i in range(timesteps, 1258):\n",
    "    X_train.append(train_scaled[i-timesteps:i, 0])\n",
    "    y_train.append(train_scaled[i, 0])\n",
    "X_train, y_train = np.array(X_train), np.array(y_train)"
   ]
  },
  {
   "cell_type": "code",
   "execution_count": 22,
   "metadata": {
    "_uuid": "a6391ab93a10427ad253a5e5240b71c9725c9add"
   },
   "outputs": [
    {
     "data": {
      "text/plain": [
       "array([[[0.        ],\n",
       "        [0.        ],\n",
       "        [0.00308429],\n",
       "        [0.00308429],\n",
       "        [0.00614943],\n",
       "        [0.03691571],\n",
       "        [0.04614943],\n",
       "        [0.04923372],\n",
       "        [0.06461686],\n",
       "        [0.06770115],\n",
       "        [0.08      ],\n",
       "        [0.08308429],\n",
       "        [0.08308429],\n",
       "        [0.08308429],\n",
       "        [0.08308429],\n",
       "        [0.08308429],\n",
       "        [0.08614943],\n",
       "        [0.08614943],\n",
       "        [0.08614943],\n",
       "        [0.08614943],\n",
       "        [0.08614943],\n",
       "        [0.08614943],\n",
       "        [0.08614943],\n",
       "        [0.08614943],\n",
       "        [0.08614943],\n",
       "        [0.08614943],\n",
       "        [0.08923372],\n",
       "        [0.08923372],\n",
       "        [0.08923372],\n",
       "        [0.08923372],\n",
       "        [0.08923372],\n",
       "        [0.08923372],\n",
       "        [0.08923372],\n",
       "        [0.08923372],\n",
       "        [0.09231801],\n",
       "        [0.09231801],\n",
       "        [0.09231801],\n",
       "        [0.09231801],\n",
       "        [0.09231801],\n",
       "        [0.09231801],\n",
       "        [0.09231801],\n",
       "        [0.09231801],\n",
       "        [0.09231801],\n",
       "        [0.09231801],\n",
       "        [0.09231801],\n",
       "        [0.09231801],\n",
       "        [0.09231801],\n",
       "        [0.09231801],\n",
       "        [0.09231801],\n",
       "        [0.09538314]]])"
      ]
     },
     "execution_count": 22,
     "metadata": {},
     "output_type": "execute_result"
    }
   ],
   "source": [
    "# Reshaping\n",
    "X_train = np.reshape(X_train, (X_train.shape[0], X_train.shape[1], 1))\n",
    "X_train[0:1]"
   ]
  },
  {
   "cell_type": "code",
   "execution_count": 23,
   "metadata": {
    "_uuid": "ccf3ffab8b7594e7b9c32983e3068b53a40772dd"
   },
   "outputs": [
    {
     "data": {
      "text/plain": [
       "array([0.09538314])"
      ]
     },
     "execution_count": 23,
     "metadata": {},
     "output_type": "execute_result"
    }
   ],
   "source": [
    "y_train[0:1]"
   ]
  },
  {
   "cell_type": "code",
   "execution_count": 28,
   "metadata": {
    "_uuid": "31528fa2b878cfde9c12733e2ce415fdcd2ea30c"
   },
   "outputs": [
    {
     "ename": "ModuleNotFoundError",
     "evalue": "No module named 'keras'",
     "output_type": "error",
     "traceback": [
      "\u001b[1;31m---------------------------------------------------------------------------\u001b[0m",
      "\u001b[1;31mModuleNotFoundError\u001b[0m                       Traceback (most recent call last)",
      "Input \u001b[1;32mIn [28]\u001b[0m, in \u001b[0;36m<cell line: 2>\u001b[1;34m()\u001b[0m\n\u001b[0;32m      1\u001b[0m \u001b[38;5;66;03m# Importing the Keras libraries and packages\u001b[39;00m\n\u001b[1;32m----> 2\u001b[0m \u001b[38;5;28;01mimport\u001b[39;00m \u001b[38;5;21;01mkeras\u001b[39;00m\n\u001b[0;32m      3\u001b[0m \u001b[38;5;28;01mfrom\u001b[39;00m \u001b[38;5;21;01mkeras\u001b[39;00m\u001b[38;5;21;01m.\u001b[39;00m\u001b[38;5;21;01mmodels\u001b[39;00m \u001b[38;5;28;01mimport\u001b[39;00m Sequential\n\u001b[0;32m      4\u001b[0m \u001b[38;5;28;01mfrom\u001b[39;00m \u001b[38;5;21;01mkeras\u001b[39;00m\u001b[38;5;21;01m.\u001b[39;00m\u001b[38;5;21;01mlayers\u001b[39;00m \u001b[38;5;28;01mimport\u001b[39;00m Dense\n",
      "\u001b[1;31mModuleNotFoundError\u001b[0m: No module named 'keras'"
     ]
    }
   ],
   "source": [
    "# Importing the Keras libraries and packages\n",
    "import keras\n",
    "from keras.models import Sequential\n",
    "from keras.layers import Dense\n",
    "from keras.layers import SimpleRNN\n",
    "from keras.layers import Dropout\n",
    "\n",
    "# Initialising the RNN\n",
    "regressor = Sequential()\n",
    "\n",
    "# Adding the first RNN layer and some Dropout regularisation\n",
    "regressor.add(SimpleRNN(units = 50,activation='tanh', return_sequences = True, input_shape = (X_train.shape[1], 1)))\n",
    "regressor.add(Dropout(0.2))\n",
    "\n",
    "# Adding a second RNN layer and some Dropout regularisation\n",
    "regressor.add(SimpleRNN(units = 50,activation='tanh', return_sequences = True))\n",
    "regressor.add(Dropout(0.2))\n",
    "\n",
    "# Adding a third RNN layer and some Dropout regularisation\n",
    "regressor.add(SimpleRNN(units = 50,activation='tanh', return_sequences = True))\n",
    "regressor.add(Dropout(0.2))\n",
    "\n",
    "# Adding a fourth RNN layer and some Dropout regularisation\n",
    "regressor.add(SimpleRNN(units = 50))\n",
    "regressor.add(Dropout(0.2))\n",
    "\n",
    "# Adding the output layer\n",
    "regressor.add(Dense(units = 1))\n",
    "\n",
    "# Compiling the RNN\n",
    "regressor.compile(optimizer = 'adam', loss = 'mean_squared_error',metrics=['accuracy'])\n",
    "\n",
    "# Fitting the RNN to the Training set\n",
    "regressor.fit(X_train, y_train, epochs = 10, batch_size = 32)"
   ]
  },
  {
   "cell_type": "code",
   "execution_count": null,
   "metadata": {
    "_uuid": "ea7a0617f04420192cc6da7b6bc7e70c8e9a20f1"
   },
   "outputs": [],
   "source": [
    "# Getting the real stock price of 2017\n",
    "dataset_test = pd.read_csv('../input/google-stock-price/Stock_Price_Test.csv')\n",
    "dataset_test.head()"
   ]
  },
  {
   "cell_type": "code",
   "execution_count": null,
   "metadata": {
    "_uuid": "902563110c842a4db96973fbd6b37df7f3e159c5"
   },
   "outputs": [],
   "source": [
    "real_stock_price = dataset_test.loc[:, [\"Open\"]].values\n",
    "real_stock_price"
   ]
  },
  {
   "cell_type": "code",
   "execution_count": null,
   "metadata": {
    "_uuid": "f5cf4df11ea44b8436832dd8eb0681cb873216aa"
   },
   "outputs": [],
   "source": [
    "# Getting the predicted stock price of 2017\n",
    "dataset_total = pd.concat((dataset_train['Open'], dataset_test['Open']), axis = 0)\n",
    "inputs = dataset_total[len(dataset_total) - len(dataset_test) - timesteps:].values.reshape(-1,1)\n",
    "inputs = scaler.transform(inputs)  # min max scaler\n",
    "#inputs"
   ]
  },
  {
   "cell_type": "code",
   "execution_count": null,
   "metadata": {
    "_uuid": "7ab2eab2150fdc18119da729810021f315a02aa1"
   },
   "outputs": [],
   "source": [
    "X_test = []\n",
    "for i in range(timesteps, 70):\n",
    "    X_test.append(inputs[i-timesteps:i, 0])\n",
    "X_test = np.array(X_test)\n",
    "X_test = np.reshape(X_test, (X_test.shape[0], X_test.shape[1], 1))\n",
    "predicted_stock_price = regressor.predict(X_test)\n",
    "predicted_stock_price = scaler.inverse_transform(predicted_stock_price)\n",
    "\n",
    "# Visualising the results\n",
    "plt.plot(real_stock_price, color = 'red', label = 'Real Google Stock Price')\n",
    "plt.plot(predicted_stock_price, color = 'blue', label = 'Predicted Google Stock Price')\n",
    "plt.title('Google Stock Price Prediction')\n",
    "plt.xlabel('Time')\n",
    "plt.ylabel('Google Stock Price')\n",
    "plt.legend()\n",
    "plt.show()"
   ]
  },
  {
   "cell_type": "markdown",
   "metadata": {
    "_uuid": "bd72ac0819e564991cda315ba746e55e7c9663bc"
   },
   "source": [
    "**Long Short Term Memory (LSTMs)**"
   ]
  },
  {
   "cell_type": "code",
   "execution_count": null,
   "metadata": {
    "_uuid": "7fdd95cd3de51f0010737da9cd7426388514fc88"
   },
   "outputs": [],
   "source": [
    "import numpy\n",
    "import pandas as pd \n",
    "import matplotlib.pyplot as plt\n",
    "import math\n",
    "from keras.models import Sequential\n",
    "from keras.layers import Dense\n",
    "from keras.layers import LSTM\n",
    "from sklearn.preprocessing import MinMaxScaler\n",
    "from sklearn.metrics import mean_squared_error"
   ]
  },
  {
   "cell_type": "code",
   "execution_count": null,
   "metadata": {
    "_uuid": "0c912c336bca59f5e887e3d51037767dac0cc23a"
   },
   "outputs": [],
   "source": [
    "data = pd.read_csv('../input/airline-passengers/international-airline-passengers.csv',skipfooter=5)\n",
    "data.head()"
   ]
  },
  {
   "cell_type": "code",
   "execution_count": null,
   "metadata": {
    "_uuid": "e7c01b9c34266a11c7dda53336a05f8f2a3ddcbb"
   },
   "outputs": [],
   "source": [
    "dataset = data.iloc[:,1].values\n",
    "plt.plot(dataset)\n",
    "plt.xlabel(\"time\")\n",
    "plt.ylabel(\"Number of Passenger\")\n",
    "plt.title(\"international airline passenger\")\n",
    "plt.show()"
   ]
  },
  {
   "cell_type": "code",
   "execution_count": null,
   "metadata": {
    "_uuid": "423b3f53bf721aabb83981c2c24d58b1bd871fb6"
   },
   "outputs": [],
   "source": [
    "dataset = dataset.reshape(-1,1)\n",
    "dataset = dataset.astype(\"float32\")\n",
    "dataset.shape"
   ]
  },
  {
   "cell_type": "code",
   "execution_count": null,
   "metadata": {
    "_uuid": "f72df48cba3df6f27f9e0711cc2f73037b3ec768"
   },
   "outputs": [],
   "source": [
    "# scaling \n",
    "scaler = MinMaxScaler(feature_range=(0, 1))\n",
    "dataset = scaler.fit_transform(dataset)"
   ]
  },
  {
   "cell_type": "code",
   "execution_count": null,
   "metadata": {
    "_uuid": "84fc12a2fcbdb74af1dfb19e5dea890a72f1a1c1"
   },
   "outputs": [],
   "source": [
    "train_size = int(len(dataset) * 0.50)\n",
    "test_size = len(dataset) - train_size\n",
    "train = dataset[0:train_size,:]\n",
    "test = dataset[train_size:len(dataset),:]\n",
    "print(\"train size: {}, test size: {} \".format(len(train), len(test)))"
   ]
  },
  {
   "cell_type": "code",
   "execution_count": null,
   "metadata": {
    "_uuid": "9142acfdf5edf0704cc570e8d43236b4602671a0"
   },
   "outputs": [],
   "source": [
    "time_stemp = 10\n",
    "dataX = []\n",
    "dataY = []\n",
    "for i in range(len(train)-time_stemp-1):\n",
    "    a = train[i:(i+time_stemp), 0]\n",
    "    dataX.append(a)\n",
    "    dataY.append(train[i + time_stemp, 0])\n",
    "trainX = numpy.array(dataX)\n",
    "trainY = numpy.array(dataY)  "
   ]
  },
  {
   "cell_type": "code",
   "execution_count": null,
   "metadata": {
    "_uuid": "c558a2a893936601b9ba20a461e95aa258423f6d"
   },
   "outputs": [],
   "source": [
    "dataX = []\n",
    "dataY = []\n",
    "for i in range(len(test)-time_stemp-1):\n",
    "    a = test[i:(i+time_stemp), 0]\n",
    "    dataX.append(a)\n",
    "    dataY.append(test[i + time_stemp, 0])\n",
    "testX = numpy.array(dataX)\n",
    "testY = numpy.array(dataY)  "
   ]
  },
  {
   "cell_type": "code",
   "execution_count": null,
   "metadata": {
    "_uuid": "9ee876daab48411f87a154182676be655e2e0950"
   },
   "outputs": [],
   "source": [
    "trainX = numpy.reshape(trainX, (trainX.shape[0], 1, trainX.shape[1]))\n",
    "testX = numpy.reshape(testX, (testX.shape[0], 1, testX.shape[1]))"
   ]
  },
  {
   "cell_type": "code",
   "execution_count": null,
   "metadata": {
    "_uuid": "63bf5e7c0258878cf0d2e0be062a4a0ab3993112"
   },
   "outputs": [],
   "source": [
    "# model\n",
    "model = Sequential()\n",
    "model.add(LSTM(10, input_shape=(1, time_stemp))) # 10 lstm neuron(block)\n",
    "model.add(Dense(1))\n",
    "model.compile(loss='mean_squared_error', optimizer='adam',metrics=['accuracy'])\n",
    "model.fit(trainX, trainY, epochs=50, batch_size=1)"
   ]
  },
  {
   "cell_type": "code",
   "execution_count": null,
   "metadata": {
    "_uuid": "82c94da5482122c6faf27b4a0700f769d2d25aac"
   },
   "outputs": [],
   "source": [
    "trainPredict = model.predict(trainX)\n",
    "testPredict = model.predict(testX)\n",
    "# invert predictions\n",
    "trainPredict = scaler.inverse_transform(trainPredict)\n",
    "trainY = scaler.inverse_transform([trainY])\n",
    "testPredict = scaler.inverse_transform(testPredict)\n",
    "testY = scaler.inverse_transform([testY])\n",
    "# calculate root mean squared error\n",
    "trainScore = math.sqrt(mean_squared_error(trainY[0], trainPredict[:,0]))\n",
    "print('Train Score: %.2f RMSE' % (trainScore))\n",
    "testScore = math.sqrt(mean_squared_error(testY[0], testPredict[:,0]))\n",
    "print('Test Score: %.2f RMSE' % (testScore))"
   ]
  },
  {
   "cell_type": "code",
   "execution_count": null,
   "metadata": {
    "_uuid": "2e3fb4b339e6b3c45de4db94ba1aa9f81fce5a65"
   },
   "outputs": [],
   "source": [
    "# shifting train\n",
    "trainPredictPlot = numpy.empty_like(dataset)\n",
    "trainPredictPlot[:, :] = numpy.nan\n",
    "trainPredictPlot[time_stemp:len(trainPredict)+time_stemp, :] = trainPredict\n",
    "# shifting test predictions for plotting\n",
    "testPredictPlot = numpy.empty_like(dataset)\n",
    "testPredictPlot[:, :] = numpy.nan\n",
    "testPredictPlot[len(trainPredict)+(time_stemp*2)+1:len(dataset)-1, :] = testPredict\n",
    "# plot baseline and predictions\n",
    "plt.plot(scaler.inverse_transform(dataset))\n",
    "plt.plot(trainPredictPlot)\n",
    "plt.plot(testPredictPlot)\n",
    "plt.show()"
   ]
  }
 ],
 "metadata": {
  "kernelspec": {
   "display_name": "Python 3 (ipykernel)",
   "language": "python",
   "name": "python3"
  },
  "language_info": {
   "codemirror_mode": {
    "name": "ipython",
    "version": 3
   },
   "file_extension": ".py",
   "mimetype": "text/x-python",
   "name": "python",
   "nbconvert_exporter": "python",
   "pygments_lexer": "ipython3",
   "version": "3.9.12"
  }
 },
 "nbformat": 4,
 "nbformat_minor": 1
}
