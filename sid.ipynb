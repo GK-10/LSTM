{
 "cells": [
  {
   "cell_type": "code",
   "execution_count": 1,
   "id": "cdd33ea5",
   "metadata": {},
   "outputs": [],
   "source": [
    "import numpy as np\n",
    "import matplotlib.pyplot as plt\n",
    "import pandas as pd"
   ]
  },
  {
   "cell_type": "code",
   "execution_count": 3,
   "id": "8bce005c",
   "metadata": {},
   "outputs": [
    {
     "data": {
      "text/html": [
       "<div>\n",
       "<style scoped>\n",
       "    .dataframe tbody tr th:only-of-type {\n",
       "        vertical-align: middle;\n",
       "    }\n",
       "\n",
       "    .dataframe tbody tr th {\n",
       "        vertical-align: top;\n",
       "    }\n",
       "\n",
       "    .dataframe thead th {\n",
       "        text-align: right;\n",
       "    }\n",
       "</style>\n",
       "<table border=\"1\" class=\"dataframe\">\n",
       "  <thead>\n",
       "    <tr style=\"text-align: right;\">\n",
       "      <th></th>\n",
       "      <th>Hours</th>\n",
       "      <th>Temperature</th>\n",
       "    </tr>\n",
       "  </thead>\n",
       "  <tbody>\n",
       "    <tr>\n",
       "      <th>0</th>\n",
       "      <td>0.0068</td>\n",
       "      <td>15.5483</td>\n",
       "    </tr>\n",
       "    <tr>\n",
       "      <th>1</th>\n",
       "      <td>0.0068</td>\n",
       "      <td>15.1557</td>\n",
       "    </tr>\n",
       "    <tr>\n",
       "      <th>2</th>\n",
       "      <td>0.0229</td>\n",
       "      <td>15.2865</td>\n",
       "    </tr>\n",
       "    <tr>\n",
       "      <th>3</th>\n",
       "      <td>0.0229</td>\n",
       "      <td>15.1557</td>\n",
       "    </tr>\n",
       "    <tr>\n",
       "      <th>4</th>\n",
       "      <td>0.0389</td>\n",
       "      <td>15.1557</td>\n",
       "    </tr>\n",
       "    <tr>\n",
       "      <th>...</th>\n",
       "      <td>...</td>\n",
       "      <td>...</td>\n",
       "    </tr>\n",
       "    <tr>\n",
       "      <th>1582</th>\n",
       "      <td>5.2108</td>\n",
       "      <td>30.5985</td>\n",
       "    </tr>\n",
       "    <tr>\n",
       "      <th>1583</th>\n",
       "      <td>5.2268</td>\n",
       "      <td>31.1220</td>\n",
       "    </tr>\n",
       "    <tr>\n",
       "      <th>1584</th>\n",
       "      <td>5.2268</td>\n",
       "      <td>30.9911</td>\n",
       "    </tr>\n",
       "    <tr>\n",
       "      <th>1585</th>\n",
       "      <td>5.2268</td>\n",
       "      <td>30.8603</td>\n",
       "    </tr>\n",
       "    <tr>\n",
       "      <th>1586</th>\n",
       "      <td>5.2268</td>\n",
       "      <td>30.7294</td>\n",
       "    </tr>\n",
       "  </tbody>\n",
       "</table>\n",
       "<p>1587 rows × 2 columns</p>\n",
       "</div>"
      ],
      "text/plain": [
       "       Hours  Temperature\n",
       "0     0.0068      15.5483\n",
       "1     0.0068      15.1557\n",
       "2     0.0229      15.2865\n",
       "3     0.0229      15.1557\n",
       "4     0.0389      15.1557\n",
       "...      ...          ...\n",
       "1582  5.2108      30.5985\n",
       "1583  5.2268      31.1220\n",
       "1584  5.2268      30.9911\n",
       "1585  5.2268      30.8603\n",
       "1586  5.2268      30.7294\n",
       "\n",
       "[1587 rows x 2 columns]"
      ]
     },
     "execution_count": 3,
     "metadata": {},
     "output_type": "execute_result"
    }
   ],
   "source": [
    "dataset_train = pd.read_csv('DOP/5a_40A.csv')\n",
    "training_set = dataset_train.iloc[:, 0:2].values\n",
    "dataset_train"
   ]
  },
  {
   "cell_type": "code",
   "execution_count": 4,
   "id": "f0e55225",
   "metadata": {},
   "outputs": [
    {
     "data": {
      "text/plain": [
       "array([[6.80000e-03, 1.55483e+01],\n",
       "       [6.80000e-03, 1.51557e+01],\n",
       "       [2.29000e-02, 1.52865e+01],\n",
       "       ...,\n",
       "       [5.22680e+00, 3.09911e+01],\n",
       "       [5.22680e+00, 3.08603e+01],\n",
       "       [5.22680e+00, 3.07294e+01]])"
      ]
     },
     "execution_count": 4,
     "metadata": {},
     "output_type": "execute_result"
    }
   ],
   "source": [
    "training_set"
   ]
  },
  {
   "cell_type": "code",
   "execution_count": 5,
   "id": "b91aba94",
   "metadata": {},
   "outputs": [
    {
     "data": {
      "text/plain": [
       "(1587, 2)"
      ]
     },
     "execution_count": 5,
     "metadata": {},
     "output_type": "execute_result"
    }
   ],
   "source": [
    "from sklearn.preprocessing import MinMaxScaler\n",
    "sc = MinMaxScaler(feature_range=(0,1))\n",
    "training_set_scaled = sc.fit_transform(training_set)\n",
    "training_set_scaled.shape"
   ]
  },
  {
   "cell_type": "code",
   "execution_count": 6,
   "id": "28f31278",
   "metadata": {},
   "outputs": [],
   "source": [
    "n=1528*60\n",
    "X_train =np.empty((n,1))\n",
    "y_train =np.empty((n,1))\n",
    "\n",
    "k=0\n",
    "for i in range(0,1528):\n",
    "    for j in range(i,i+60):\n",
    "        X_train[k+j][0]=training_set_scaled[j][0]\n",
    "        y_train[k+j][0]=training_set_scaled[j][1]\n",
    "    k=k+59\n",
    "X_train = np.reshape(X_train, (60,1528))"
   ]
  },
  {
   "cell_type": "code",
   "execution_count": 7,
   "id": "a04c0441",
   "metadata": {},
   "outputs": [
    {
     "data": {
      "text/plain": [
       "(60, 1528)"
      ]
     },
     "execution_count": 7,
     "metadata": {},
     "output_type": "execute_result"
    }
   ],
   "source": [
    "X_train.shape"
   ]
  },
  {
   "cell_type": "code",
   "execution_count": null,
   "id": "f426bb71",
   "metadata": {},
   "outputs": [],
   "source": []
  }
 ],
 "metadata": {
  "kernelspec": {
   "display_name": "Python 3 (ipykernel)",
   "language": "python",
   "name": "python3"
  },
  "language_info": {
   "codemirror_mode": {
    "name": "ipython",
    "version": 3
   },
   "file_extension": ".py",
   "mimetype": "text/x-python",
   "name": "python",
   "nbconvert_exporter": "python",
   "pygments_lexer": "ipython3",
   "version": "3.9.12"
  }
 },
 "nbformat": 4,
 "nbformat_minor": 5
}
