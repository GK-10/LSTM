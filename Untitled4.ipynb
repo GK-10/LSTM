{
 "cells": [
  {
   "cell_type": "code",
   "execution_count": 33,
   "id": "94e05335",
   "metadata": {},
   "outputs": [],
   "source": [
    "# Data wrangling\n",
    "import pandas as pd \n",
    "\n",
    "# Visualization\n",
    "import matplotlib.pyplot as plt \n",
    "import seaborn as sns \n",
    "\n",
    "# Date wrangling\n",
    "import datetime\n",
    "\n",
    "# Math operations\n",
    "import numpy as np\n",
    "\n",
    "# Random sampling\n",
    "import random\n",
    "import tensorflow\n",
    "# Keras API \n",
    "from tensorflow import keras\n",
    "\n",
    "# Deep learning \n",
    "from tensorflow.python.keras.models import Input\n",
    "from keras.models import  Model, Sequential\n",
    "from keras.layers import Dense, Dropout, LSTM, Concatenate, SimpleRNN, Masking, Flatten\n",
    "from keras import losses\n",
    "from keras.callbacks import EarlyStopping\n",
    "from keras.initializers import RandomNormal"
   ]
  },
  {
   "cell_type": "code",
   "execution_count": 34,
   "id": "76adb07b",
   "metadata": {},
   "outputs": [],
   "source": [
    "def create_X_Y(ts: np.array, lag=1, n_ahead=1, target_index=0) -> tuple:\n",
    "    \"\"\"\n",
    "    A method to create X and Y matrix from a time series array for the training of \n",
    "    deep learning models \n",
    "    \"\"\"\n",
    "    # Extracting the number of features that are passed from the array \n",
    "    n_features = ts.shape[1]\n",
    "    \n",
    "    # Creating placeholder lists\n",
    "    X, Y = [], []\n",
    "\n",
    "    if len(ts) - lag <= 0:\n",
    "        X.append(ts)\n",
    "    else:\n",
    "        for i in range(len(ts) - lag - n_ahead):\n",
    "            Y.append(ts[(i + lag):(i + lag + n_ahead), target_index])\n",
    "            X.append(ts[i:(i + lag)])\n",
    "\n",
    "    X, Y = np.array(X), np.array(Y)\n",
    "\n",
    "    # Reshaping the X array to an RNN input shape \n",
    "    X = np.reshape(X, (X.shape[0], lag, n_features))\n",
    "\n",
    "    return X, Y"
   ]
  },
  {
   "cell_type": "code",
   "execution_count": 35,
   "id": "4a957e93",
   "metadata": {},
   "outputs": [
    {
     "name": "stdout",
     "output_type": "stream",
     "text": [
      "Shape of data: (1587, 2)\n"
     ]
    }
   ],
   "source": [
    "d = pd.read_csv('DOP/5a_40A.csv')\n",
    "\n",
    "print(f'Shape of data: {d.shape}')"
   ]
  },
  {
   "cell_type": "code",
   "execution_count": 36,
   "id": "594eb825",
   "metadata": {},
   "outputs": [
    {
     "data": {
      "text/plain": [
       "Hours          float64\n",
       "Temperature    float64\n",
       "dtype: object"
      ]
     },
     "execution_count": 36,
     "metadata": {},
     "output_type": "execute_result"
    }
   ],
   "source": [
    "# Types of columns\n",
    "d.dtypes"
   ]
  },
  {
   "cell_type": "code",
   "execution_count": 37,
   "id": "899c45a7",
   "metadata": {},
   "outputs": [
    {
     "name": "stdout",
     "output_type": "stream",
     "text": [
      "Total unique dates in the dataset: 308\n"
     ]
    }
   ],
   "source": [
    "print(f\"Total unique dates in the dataset: {len(set(d['Hours']))}\")"
   ]
  },
  {
   "cell_type": "code",
   "execution_count": 38,
   "id": "c7ab7b00",
   "metadata": {},
   "outputs": [
    {
     "name": "stdout",
     "output_type": "stream",
     "text": [
      "Number of rows in the dataset: 1587\n"
     ]
    }
   ],
   "source": [
    "print(f\"Number of rows in the dataset: {d.shape[0]}\")"
   ]
  },
  {
   "cell_type": "code",
   "execution_count": 40,
   "id": "218f9205",
   "metadata": {},
   "outputs": [],
   "source": [
    "# Features used in models\n",
    "features = ['Temperature','Hours']\n",
    "\n",
    "# Aggregating to hourly level\n",
    "d = d.groupby('Hours', as_index=False)[features].mean()\n",
    "\n",
    "# Creating the data column\n",
    "# d['date'] = [x.date() for x in d['Hours']]"
   ]
  },
  {
   "cell_type": "code",
   "execution_count": 41,
   "id": "6e9880de",
   "metadata": {},
   "outputs": [
    {
     "data": {
      "text/html": [
       "<div>\n",
       "<style scoped>\n",
       "    .dataframe tbody tr th:only-of-type {\n",
       "        vertical-align: middle;\n",
       "    }\n",
       "\n",
       "    .dataframe tbody tr th {\n",
       "        vertical-align: top;\n",
       "    }\n",
       "\n",
       "    .dataframe thead th {\n",
       "        text-align: right;\n",
       "    }\n",
       "</style>\n",
       "<table border=\"1\" class=\"dataframe\">\n",
       "  <thead>\n",
       "    <tr style=\"text-align: right;\">\n",
       "      <th></th>\n",
       "      <th>Temperature</th>\n",
       "      <th>Hours</th>\n",
       "    </tr>\n",
       "  </thead>\n",
       "  <tbody>\n",
       "    <tr>\n",
       "      <th>count</th>\n",
       "      <td>308.000000</td>\n",
       "      <td>308.000000</td>\n",
       "    </tr>\n",
       "    <tr>\n",
       "      <th>mean</th>\n",
       "      <td>27.813642</td>\n",
       "      <td>2.757037</td>\n",
       "    </tr>\n",
       "    <tr>\n",
       "      <th>std</th>\n",
       "      <td>4.298571</td>\n",
       "      <td>1.438076</td>\n",
       "    </tr>\n",
       "    <tr>\n",
       "      <th>min</th>\n",
       "      <td>15.155700</td>\n",
       "      <td>0.006800</td>\n",
       "    </tr>\n",
       "    <tr>\n",
       "      <th>25%</th>\n",
       "      <td>25.478175</td>\n",
       "      <td>1.528675</td>\n",
       "    </tr>\n",
       "    <tr>\n",
       "      <th>50%</th>\n",
       "      <td>30.075040</td>\n",
       "      <td>2.761350</td>\n",
       "    </tr>\n",
       "    <tr>\n",
       "      <th>75%</th>\n",
       "      <td>30.729400</td>\n",
       "      <td>3.994100</td>\n",
       "    </tr>\n",
       "    <tr>\n",
       "      <th>max</th>\n",
       "      <td>30.925700</td>\n",
       "      <td>5.226800</td>\n",
       "    </tr>\n",
       "  </tbody>\n",
       "</table>\n",
       "</div>"
      ],
      "text/plain": [
       "       Temperature       Hours\n",
       "count   308.000000  308.000000\n",
       "mean     27.813642    2.757037\n",
       "std       4.298571    1.438076\n",
       "min      15.155700    0.006800\n",
       "25%      25.478175    1.528675\n",
       "50%      30.075040    2.761350\n",
       "75%      30.729400    3.994100\n",
       "max      30.925700    5.226800"
      ]
     },
     "execution_count": 41,
     "metadata": {},
     "output_type": "execute_result"
    }
   ],
   "source": [
    "d[features].describe()"
   ]
  },
  {
   "cell_type": "code",
   "execution_count": 42,
   "id": "e88b367f",
   "metadata": {},
   "outputs": [
    {
     "data": {
      "text/html": [
       "<div>\n",
       "<style scoped>\n",
       "    .dataframe tbody tr th:only-of-type {\n",
       "        vertical-align: middle;\n",
       "    }\n",
       "\n",
       "    .dataframe tbody tr th {\n",
       "        vertical-align: top;\n",
       "    }\n",
       "\n",
       "    .dataframe thead th {\n",
       "        text-align: right;\n",
       "    }\n",
       "</style>\n",
       "<table border=\"1\" class=\"dataframe\">\n",
       "  <thead>\n",
       "    <tr style=\"text-align: right;\">\n",
       "      <th></th>\n",
       "      <th>Hours</th>\n",
       "      <th>Temperature</th>\n",
       "    </tr>\n",
       "  </thead>\n",
       "  <tbody>\n",
       "    <tr>\n",
       "      <th>0</th>\n",
       "      <td>0.0068</td>\n",
       "      <td>15.35200</td>\n",
       "    </tr>\n",
       "    <tr>\n",
       "      <th>1</th>\n",
       "      <td>0.0229</td>\n",
       "      <td>15.22110</td>\n",
       "    </tr>\n",
       "    <tr>\n",
       "      <th>2</th>\n",
       "      <td>0.0389</td>\n",
       "      <td>15.15570</td>\n",
       "    </tr>\n",
       "    <tr>\n",
       "      <th>3</th>\n",
       "      <td>0.1995</td>\n",
       "      <td>15.81000</td>\n",
       "    </tr>\n",
       "    <tr>\n",
       "      <th>4</th>\n",
       "      <td>0.2477</td>\n",
       "      <td>15.15570</td>\n",
       "    </tr>\n",
       "    <tr>\n",
       "      <th>5</th>\n",
       "      <td>0.2638</td>\n",
       "      <td>15.15570</td>\n",
       "    </tr>\n",
       "    <tr>\n",
       "      <th>6</th>\n",
       "      <td>0.3441</td>\n",
       "      <td>15.81000</td>\n",
       "    </tr>\n",
       "    <tr>\n",
       "      <th>7</th>\n",
       "      <td>0.3602</td>\n",
       "      <td>15.81000</td>\n",
       "    </tr>\n",
       "    <tr>\n",
       "      <th>8</th>\n",
       "      <td>0.4244</td>\n",
       "      <td>15.81000</td>\n",
       "    </tr>\n",
       "    <tr>\n",
       "      <th>9</th>\n",
       "      <td>0.4405</td>\n",
       "      <td>15.54826</td>\n",
       "    </tr>\n",
       "  </tbody>\n",
       "</table>\n",
       "</div>"
      ],
      "text/plain": [
       "    Hours  Temperature\n",
       "0  0.0068     15.35200\n",
       "1  0.0229     15.22110\n",
       "2  0.0389     15.15570\n",
       "3  0.1995     15.81000\n",
       "4  0.2477     15.15570\n",
       "5  0.2638     15.15570\n",
       "6  0.3441     15.81000\n",
       "7  0.3602     15.81000\n",
       "8  0.4244     15.81000\n",
       "9  0.4405     15.54826"
      ]
     },
     "execution_count": 42,
     "metadata": {},
     "output_type": "execute_result"
    }
   ],
   "source": [
    "d[['Hours', 'Temperature']].head(10)"
   ]
  },
  {
   "cell_type": "code",
   "execution_count": 43,
   "id": "d27cf477",
   "metadata": {},
   "outputs": [
    {
     "data": {
      "text/html": [
       "<div>\n",
       "<style scoped>\n",
       "    .dataframe tbody tr th:only-of-type {\n",
       "        vertical-align: middle;\n",
       "    }\n",
       "\n",
       "    .dataframe tbody tr th {\n",
       "        vertical-align: top;\n",
       "    }\n",
       "\n",
       "    .dataframe thead th {\n",
       "        text-align: right;\n",
       "    }\n",
       "</style>\n",
       "<table border=\"1\" class=\"dataframe\">\n",
       "  <thead>\n",
       "    <tr style=\"text-align: right;\">\n",
       "      <th></th>\n",
       "      <th>Hours</th>\n",
       "      <th>Temperature</th>\n",
       "    </tr>\n",
       "  </thead>\n",
       "  <tbody>\n",
       "    <tr>\n",
       "      <th>298</th>\n",
       "      <td>5.0823</td>\n",
       "      <td>30.92570</td>\n",
       "    </tr>\n",
       "    <tr>\n",
       "      <th>299</th>\n",
       "      <td>5.0983</td>\n",
       "      <td>30.92570</td>\n",
       "    </tr>\n",
       "    <tr>\n",
       "      <th>300</th>\n",
       "      <td>5.1144</td>\n",
       "      <td>30.86026</td>\n",
       "    </tr>\n",
       "    <tr>\n",
       "      <th>301</th>\n",
       "      <td>5.1304</td>\n",
       "      <td>30.86026</td>\n",
       "    </tr>\n",
       "    <tr>\n",
       "      <th>302</th>\n",
       "      <td>5.1465</td>\n",
       "      <td>30.86026</td>\n",
       "    </tr>\n",
       "    <tr>\n",
       "      <th>303</th>\n",
       "      <td>5.1626</td>\n",
       "      <td>30.86026</td>\n",
       "    </tr>\n",
       "    <tr>\n",
       "      <th>304</th>\n",
       "      <td>5.1786</td>\n",
       "      <td>30.86026</td>\n",
       "    </tr>\n",
       "    <tr>\n",
       "      <th>305</th>\n",
       "      <td>5.1947</td>\n",
       "      <td>30.92570</td>\n",
       "    </tr>\n",
       "    <tr>\n",
       "      <th>306</th>\n",
       "      <td>5.2108</td>\n",
       "      <td>30.92570</td>\n",
       "    </tr>\n",
       "    <tr>\n",
       "      <th>307</th>\n",
       "      <td>5.2268</td>\n",
       "      <td>30.92570</td>\n",
       "    </tr>\n",
       "  </tbody>\n",
       "</table>\n",
       "</div>"
      ],
      "text/plain": [
       "      Hours  Temperature\n",
       "298  5.0823     30.92570\n",
       "299  5.0983     30.92570\n",
       "300  5.1144     30.86026\n",
       "301  5.1304     30.86026\n",
       "302  5.1465     30.86026\n",
       "303  5.1626     30.86026\n",
       "304  5.1786     30.86026\n",
       "305  5.1947     30.92570\n",
       "306  5.2108     30.92570\n",
       "307  5.2268     30.92570"
      ]
     },
     "execution_count": 43,
     "metadata": {},
     "output_type": "execute_result"
    }
   ],
   "source": [
    "d[['Hours', 'Temperature']].tail(10)"
   ]
  },
  {
   "cell_type": "code",
   "execution_count": 44,
   "id": "2522e3df",
   "metadata": {},
   "outputs": [
    {
     "data": {
      "image/png": "[encoded data removed]",
      "text/plain": [
       "<Figure size 1200x800 with 1 Axes>"
      ]
     },
     "metadata": {},
     "output_type": "display_data"
    }
   ],
   "source": [
    "plt.figure(figsize=(12, 8))\n",
    "plt.plot('Hours', 'Temperature', data=d)\n",
    "plt.title('Hourly temperature graph')\n",
    "plt.ylabel('Degrees in C')\n",
    "plt.xlabel('Hours')\n",
    "plt.show()"
   ]
  },
  {
   "cell_type": "code",
   "execution_count": 45,
   "id": "817ee63f",
   "metadata": {},
   "outputs": [],
   "source": [
    "# Number of lags (hours back) to use for models\n",
    "lag = 48\n",
    "\n",
    "# Steps ahead to forecast \n",
    "n_ahead = 1\n",
    "\n",
    "# Share of obs in testing \n",
    "test_share = 0.1\n",
    "\n",
    "# Epochs for training\n",
    "epochs = 20\n",
    "\n",
    "# Batch size \n",
    "batch_size = 512\n",
    "\n",
    "# Learning rate\n",
    "lr = 0.001\n",
    "\n",
    "# Number of neurons in LSTM layer\n",
    "n_layer = 10\n",
    "\n",
    "# The features used in the modeling \n",
    "# features_final = ['temp', 'day_cos', 'day_sin', 'month_sin', 'month_cos', 'pressure', 'wind_speed']"
   ]
  },
  {
   "cell_type": "code",
   "execution_count": 46,
   "id": "7f0334b5",
   "metadata": {},
   "outputs": [],
   "source": [
    "ts = d[features]\n",
    "\n",
    "nrows = ts.shape[0]\n",
    "\n",
    "# Spliting into train and test sets\n",
    "train = ts[0:int(nrows * (1 - test_share))]\n",
    "test = ts[int(nrows * (1 - test_share)):]\n",
    "\n",
    "# Scaling the data \n",
    "train_mean = train.mean()\n",
    "train_std = train.std()\n",
    "\n",
    "train = (train - train_mean) / train_std\n",
    "test = (test - train_mean) / train_std\n",
    "\n",
    "# Creating the final scaled frame \n",
    "ts_s = pd.concat([train, test])"
   ]
  },
  {
   "cell_type": "code",
   "execution_count": 47,
   "id": "d71262a0",
   "metadata": {},
   "outputs": [],
   "source": [
    "X, Y = create_X_Y(ts_s.values, lag=lag, n_ahead=n_ahead)\n",
    "\n",
    "n_ft = X.shape[2]"
   ]
  },
  {
   "cell_type": "code",
   "execution_count": 51,
   "id": "a256769c",
   "metadata": {},
   "outputs": [],
   "source": [
    "# Spliting into train and test sets \n",
    "Xtrain, Ytrain = X[0:int(X.shape[0] * (1 - test_share))], Y[0:int(X.shape[0] * (1 - test_share))]\n",
    "Xval, Yval = X[int(X.shape[0] * (1 - test_share)):], Y[int(X.shape[0] * (1 - test_share)):]"
   ]
  },
  {
   "cell_type": "code",
   "execution_count": 52,
   "id": "1f10ffbf",
   "metadata": {},
   "outputs": [
    {
     "name": "stdout",
     "output_type": "stream",
     "text": [
      "Shape of training data: (233, 48, 2)\n",
      "Shape of the target data: (233, 1)\n",
      "Shape of validation data: (26, 48, 2)\n",
      "Shape of the validation target data: (26, 1)\n"
     ]
    }
   ],
   "source": [
    "print(f\"Shape of training data: {Xtrain.shape}\")\n",
    "print(f\"Shape of the target data: {Ytrain.shape}\")\n",
    "\n",
    "print(f\"Shape of validation data: {Xval.shape}\")\n",
    "print(f\"Shape of the validation target data: {Yval.shape}\")"
   ]
  },
  {
   "cell_type": "code",
   "execution_count": null,
   "id": "526bcded",
   "metadata": {},
   "outputs": [],
   "source": []
  }
 ],
 "metadata": {
  "kernelspec": {
   "display_name": "Python 3 (ipykernel)",
   "language": "python",
   "name": "python3"
  },
  "language_info": {
   "codemirror_mode": {
    "name": "ipython",
    "version": 3
   },
   "file_extension": ".py",
   "mimetype": "text/x-python",
   "name": "python",
   "nbconvert_exporter": "python",
   "pygments_lexer": "ipython3",
   "version": "3.9.13"
  }
 },
 "nbformat": 4,
 "nbformat_minor": 5
}
